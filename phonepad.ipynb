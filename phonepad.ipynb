{
 "cells": [
  {
   "attachments": {},
   "cell_type": "markdown",
   "metadata": {},
   "source": [
    "# Horse on a Phonepad"
   ]
  },
  {
   "attachments": {},
   "cell_type": "markdown",
   "metadata": {},
   "source": [
    "The Task:\n",
    "             \n",
    "Imagine you place a knight chess piece on a phone dial pad. This chess piece moves in an uppercase “L” shape: two steps horizontally followed by one vertically, or one step horizontally then two vertically. \n",
    "\n",
    "How many distinct numbers can you dial in N hops from a particular starting position?"
   ]
  },
  {
   "attachments": {},
   "cell_type": "markdown",
   "metadata": {},
   "source": [
    "This first function should return for a given position all possible positions the knight can move to."
   ]
  },
  {
   "cell_type": "code",
   "execution_count": 1,
   "metadata": {},
   "outputs": [],
   "source": [
    "def give_valid_moves(value):\n",
    "    allowed_moves = {\n",
    "        0: {4, 6},\n",
    "        1: {6, 8},\n",
    "        2: {7, 9},\n",
    "        3: {4, 8},\n",
    "        4: {0, 3, 9},\n",
    "        5: {},\n",
    "        6: {0, 1, 7},\n",
    "        7: {2, 6},\n",
    "        8: {1, 3},\n",
    "        9: {2, 4}}\n",
    "    return allowed_moves[value]"
   ]
  },
  {
   "cell_type": "code",
   "execution_count": 2,
   "metadata": {},
   "outputs": [
    {
     "name": "stdout",
     "output_type": "stream",
     "text": [
      "Test successful\n"
     ]
    }
   ],
   "source": [
    "# Test function\n",
    "\n",
    "x = give_valid_moves(1)\n",
    "y = give_valid_moves(0)\n",
    "if x == {6,8} and y == {4,6}:\n",
    "    print('Test successful')\n",
    "else: \n",
    "    print('Test not successful')"
   ]
  },
  {
   "attachments": {},
   "cell_type": "markdown",
   "metadata": {},
   "source": [
    "This function should return the number of phonenumbers one can dial with n hops from the given starting position using a recursive function."
   ]
  },
  {
   "cell_type": "code",
   "execution_count": 3,
   "metadata": {},
   "outputs": [],
   "source": [
    "def k_phonenumbers(start_value, n_steps):\n",
    "    if n_steps == 0:\n",
    "        return 1\n",
    "    if start_value == 5:\n",
    "        return 1\n",
    "    else:\n",
    "        k = 0\n",
    "        for val in give_valid_moves(start_value):\n",
    "            k += k_phonenumbers(val, n_steps - 1)\n",
    "        return k"
   ]
  },
  {
   "cell_type": "code",
   "execution_count": 4,
   "metadata": {},
   "outputs": [
    {
     "name": "stdout",
     "output_type": "stream",
     "text": [
      "Test 1 successful\n",
      "Test 2 successful\n",
      "Test 3 successful\n",
      "Test 4 successful\n",
      "Test 5 successful\n"
     ]
    }
   ],
   "source": [
    "# Test function\n",
    "if k_phonenumbers(1,0) == 1:\n",
    "    print('Test 1 successful')\n",
    "else:\n",
    "    print('Test 1 not successful')\n",
    "\n",
    "if k_phonenumbers(1,1) == 2:\n",
    "    print('Test 2 successful')\n",
    "else:\n",
    "    print('Test 2 not successful')\n",
    "\n",
    "if k_phonenumbers(5,10) == 1:\n",
    "    print('Test 3 successful')\n",
    "else:\n",
    "    print('Test 3 not successful')\n",
    "    \n",
    "if k_phonenumbers(1,3) == 10:\n",
    "    print('Test 4 successful')\n",
    "else:\n",
    "    print('Test 4 not successful')\n",
    "\n",
    "if k_phonenumbers(1,4) == 26:\n",
    "    print('Test 5 successful')\n",
    "else:\n",
    "    print('Test 5 not successful')"
   ]
  },
  {
   "cell_type": "code",
   "execution_count": 5,
   "metadata": {},
   "outputs": [],
   "source": [
    "#print(f'solution for N = 25 {k_phonenumbers(1,25)}')"
   ]
  },
  {
   "attachments": {},
   "cell_type": "markdown",
   "metadata": {},
   "source": [
    "Since the function takes quite long to calculate the solution I'm going to improve the function by storing solutions to sub problems (dynamic programming)"
   ]
  },
  {
   "cell_type": "code",
   "execution_count": 17,
   "metadata": {},
   "outputs": [],
   "source": [
    "def k_phonenumbers_dyn(start_value, n_steps):\n",
    "    phonenumbers = {}\n",
    "    return recursion(phonenumbers, start_value, n_steps)\n",
    "def recursion(phonenumbers, start_value, n_steps):\n",
    "    if n_steps == 0:\n",
    "        return 1\n",
    "    if start_value == 5:\n",
    "        return 1\n",
    "    else:\n",
    "        k = 0\n",
    "        for val in give_valid_moves(start_value):\n",
    "            if (val,n_steps-1) not in phonenumbers.keys():\n",
    "                phonenumbers[(val,n_steps - 1)]= recursion(phonenumbers, val, n_steps - 1)\n",
    "            k += phonenumbers[(val,n_steps - 1)]\n",
    "        return k"
   ]
  },
  {
   "cell_type": "code",
   "execution_count": 18,
   "metadata": {},
   "outputs": [
    {
     "name": "stdout",
     "output_type": "stream",
     "text": [
      "Test 1 successful\n",
      "Test 2 successful\n",
      "Test 3 successful\n",
      "Test 4 successful\n",
      "Test 5 successful\n"
     ]
    }
   ],
   "source": [
    "# Test function\n",
    "if k_phonenumbers_dyn(1,0) == 1:\n",
    "    print('Test 1 successful')\n",
    "else:\n",
    "    print('Test 1 not successful')\n",
    "\n",
    "if k_phonenumbers_dyn(1,1) == 2:\n",
    "    print('Test 2 successful')\n",
    "else:\n",
    "    print('Test 2 not successful')\n",
    "\n",
    "if k_phonenumbers_dyn(5,10) == 1:\n",
    "    print('Test 3 successful')\n",
    "else:\n",
    "    print('Test 3 not successful')\n",
    "\n",
    "if k_phonenumbers_dyn(1,3) == 10:\n",
    "    print('Test 4 successful')\n",
    "else:\n",
    "    print('Test 4 not successful')  \n",
    "    \n",
    "if k_phonenumbers_dyn(1,4) == 26:\n",
    "    print('Test 5 successful')\n",
    "else:\n",
    "    print('Test 5 not successful')"
   ]
  },
  {
   "cell_type": "code",
   "execution_count": 20,
   "metadata": {},
   "outputs": [
    {
     "name": "stdout",
     "output_type": "stream",
     "text": [
      "solution for N = 50 894498933328314368\n"
     ]
    }
   ],
   "source": [
    "print(f'solution for N = 50 {k_phonenumbers_dyn(1,50)}')"
   ]
  }
 ],
 "metadata": {
  "kernelspec": {
   "display_name": "base",
   "language": "python",
   "name": "python3"
  },
  "language_info": {
   "codemirror_mode": {
    "name": "ipython",
    "version": 3
   },
   "file_extension": ".py",
   "mimetype": "text/x-python",
   "name": "python",
   "nbconvert_exporter": "python",
   "pygments_lexer": "ipython3",
   "version": "3.8.5"
  },
  "orig_nbformat": 4,
  "vscode": {
   "interpreter": {
    "hash": "6f0b969402cbee4e1a29c4980b51dfccc697a8f11e23fc015dec1a245893a3ed"
   }
  }
 },
 "nbformat": 4,
 "nbformat_minor": 2
}
