{
 "cells": [
  {
   "attachments": {},
   "cell_type": "markdown",
   "metadata": {},
   "source": [
    "# Horse on a Phonepad"
   ]
  },
  {
   "attachments": {},
   "cell_type": "markdown",
   "metadata": {},
   "source": [
    "The Task:\n",
    "             \n",
    "Imagine you place a knight chess piece on a phone dial pad. This chess piece moves in an uppercase “L” shape: two steps horizontally followed by one vertically, or one step horizontally then two vertically. \n",
    "\n",
    "How many distinct numbers can you dial in N hops from a particular starting position?"
   ]
  },
  {
   "attachments": {},
   "cell_type": "markdown",
   "metadata": {},
   "source": [
    "This first function should return for a given position all possible positions the knight can move to."
   ]
  },
  {
   "cell_type": "code",
   "execution_count": 2,
   "metadata": {},
   "outputs": [
    {
     "name": "stdout",
     "output_type": "stream",
     "text": [
      "Test sucessfull\n"
     ]
    }
   ],
   "source": [
    "# Test function\n",
    "\n",
    "x = give_valid_moves(1)\n",
    "y = give_valid_moves(0)\n",
    "if x == {6,8} and y == {4,6}:\n",
    "    print('Test successful')\n",
    "else: \n",
    "    print('Test not successful')"
   ]
  },
  {
   "cell_type": "code",
   "execution_count": 1,
   "metadata": {},
   "outputs": [],
   "source": [
    "def give_valid_moves(value):\n",
    "    allowed_moves = {\n",
    "        0: {4, 6},\n",
    "        1: {6, 8},\n",
    "        2: {7, 9},\n",
    "        3: {4, 8},\n",
    "        4: {0, 3, 9},\n",
    "        5: {},\n",
    "        6: {1, 7},\n",
    "        7: {2, 6},\n",
    "        8: {1, 3},\n",
    "        9: {2, 4}}\n",
    "    return allowed_moves[value]"
   ]
  },
  {
   "attachments": {},
   "cell_type": "markdown",
   "metadata": {},
   "source": [
    "This function should return the number of phonenumbers one can dial with n hops from the given starting position"
   ]
  },
  {
   "cell_type": "code",
   "execution_count": null,
   "metadata": {},
   "outputs": [],
   "source": [
    "# Test function\n",
    "if k_phonenumbers(1,0) == 0:\n",
    "    print('Test 1 successful')\n",
    "else:\n",
    "    print('Test 1 not successful')\n",
    "\n",
    "if k_phonenumbers(1,1) == 2:\n",
    "    print('Test 2 successful')\n",
    "else:\n",
    "    print('Test 2 not successful')\n",
    "\n",
    "if k_phonenumbers(5,10) == 0:\n",
    "    print('Test 3 successful')\n",
    "else:\n",
    "    print('Test 3 not successful')\n",
    "    \n",
    "if k_phonenumbers(1,3) == 9:\n",
    "    print('Test 4 successful')\n",
    "else:\n",
    "    print('Test 4 unsuccessful')"
   ]
  },
  {
   "cell_type": "code",
   "execution_count": null,
   "metadata": {},
   "outputs": [],
   "source": [
    "unique_numbers = "
   ]
  }
 ],
 "metadata": {
  "kernelspec": {
   "display_name": "base",
   "language": "python",
   "name": "python3"
  },
  "language_info": {
   "codemirror_mode": {
    "name": "ipython",
    "version": 3
   },
   "file_extension": ".py",
   "mimetype": "text/x-python",
   "name": "python",
   "nbconvert_exporter": "python",
   "pygments_lexer": "ipython3",
   "version": "3.8.5"
  },
  "orig_nbformat": 4,
  "vscode": {
   "interpreter": {
    "hash": "6f0b969402cbee4e1a29c4980b51dfccc697a8f11e23fc015dec1a245893a3ed"
   }
  }
 },
 "nbformat": 4,
 "nbformat_minor": 2
}
